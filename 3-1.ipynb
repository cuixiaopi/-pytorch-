{
 "cells": [
  {
   "cell_type": "code",
   "execution_count": 16,
   "metadata": {},
   "outputs": [
    {
     "name": "stdout",
     "output_type": "stream",
     "text": [
      "tensor([[0, 1, 2],\n",
      "        [3, 4, 5]])\n",
      "tensor([[0, 1],\n",
      "        [2, 3],\n",
      "        [4, 5]])\n",
      "tensor([[1, 2, 3],\n",
      "        [4, 5, 6]])\n",
      "数据=tensor([[0, 1, 2],\n",
      "        [3, 4, 5]])\n",
      "大小=torch.Size([2, 3])\n",
      "维度=2\n",
      "元素个数=6\n",
      "元素类型=torch.int64\n"
     ]
    }
   ],
   "source": [
    "import torch\n",
    "t2=torch.tensor([[0,1,2],[3,4,5]])\n",
    "print(t2)\n",
    "print(t2.reshape(3,2)) #先打平，按一行逐渐排列\n",
    "print(t2+1)#逐个元素计算\n",
    "print('数据={}'.format(t2))\n",
    "print('大小={}'.format(t2.size()))#显示维度信息具体长度\n",
    "print('维度={}'.format(t2.dim()))\n",
    "print('元素个数={}'.format(t2.numel()))\n",
    "print('元素类型={}'.format(t2.dtype))"
   ]
  },
  {
   "cell_type": "code",
   "execution_count": null,
   "metadata": {},
   "outputs": [],
   "source": []
  },
  {
   "cell_type": "code",
   "execution_count": null,
   "metadata": {},
   "outputs": [],
   "source": []
  }
 ],
 "metadata": {
  "kernelspec": {
   "display_name": "Python 3",
   "language": "python",
   "name": "python3"
  },
  "language_info": {
   "codemirror_mode": {
    "name": "ipython",
    "version": 3
   },
   "file_extension": ".py",
   "mimetype": "text/x-python",
   "name": "python",
   "nbconvert_exporter": "python",
   "pygments_lexer": "ipython3",
   "version": "3.7.6"
  }
 },
 "nbformat": 4,
 "nbformat_minor": 4
}
