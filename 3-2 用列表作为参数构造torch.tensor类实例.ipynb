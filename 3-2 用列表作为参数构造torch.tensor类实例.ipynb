{
 "cells": [
  {
   "cell_type": "code",
   "execution_count": 1,
   "metadata": {},
   "outputs": [
    {
     "name": "stdout",
     "output_type": "stream",
     "text": [
      "tensor(0)\n",
      "tensor([0, 1, 2, 3])\n",
      "tensor([[0, 1, 2],\n",
      "        [2, 3, 4],\n",
      "        [5, 6, 9]])\n",
      "tensor([[[0, 1, 2],\n",
      "         [2, 3, 4],\n",
      "         [5, 6, 9]],\n",
      "\n",
      "        [[0, 1, 2],\n",
      "         [2, 3, 4],\n",
      "         [5, 6, 9]],\n",
      "\n",
      "        [[0, 1, 2],\n",
      "         [2, 3, 4],\n",
      "         [5, 6, 9]]])\n"
     ]
    }
   ],
   "source": [
    "import torch\n",
    "t0=torch.tensor(0)\n",
    "t1=torch.tensor([0,1,2,3])\n",
    "t2=torch.tensor([[0,1,2],[2,3,4],[5,6,9]])\n",
    "t3=torch.tensor([[[0,1,2],[2,3,4],[5,6,9]],\n",
    "               [[0,1,2],[2,3,4],[5,6,9]],\n",
    "               [[0,1,2],[2,3,4],[5,6,9]]])\n",
    "print(t0)\n",
    "print(t1)\n",
    "print(t2)\n",
    "print(t3)"
   ]
  },
  {
   "cell_type": "code",
   "execution_count": null,
   "metadata": {},
   "outputs": [],
   "source": []
  }
 ],
 "metadata": {
  "kernelspec": {
   "display_name": "Python 3",
   "language": "python",
   "name": "python3"
  },
  "language_info": {
   "codemirror_mode": {
    "name": "ipython",
    "version": 3
   },
   "file_extension": ".py",
   "mimetype": "text/x-python",
   "name": "python",
   "nbconvert_exporter": "python",
   "pygments_lexer": "ipython3",
   "version": "3.7.6"
  }
 },
 "nbformat": 4,
 "nbformat_minor": 4
}
