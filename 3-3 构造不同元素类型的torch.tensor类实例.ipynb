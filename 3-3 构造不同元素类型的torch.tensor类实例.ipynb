{
 "cells": [
  {
   "cell_type": "code",
   "execution_count": 21,
   "metadata": {},
   "outputs": [
    {
     "name": "stdout",
     "output_type": "stream",
     "text": [
      "torch.int64\n",
      "torch.int8\n",
      "torch.int16\n",
      "torch.int32\n",
      "torch.int64\n",
      "torch.float16\n",
      "torch.float32\n",
      "torch.float64\n"
     ]
    }
   ],
   "source": [
    "import torch\n",
    "print(torch.tensor([0,1]).dtype) #shape\n",
    "t_int8=torch.tensor([0,1],dtype=torch.int8)\n",
    "print(t_int8.dtype)\n",
    "t_int16=torch.tensor([0,1],dtype=torch.int16)\n",
    "print(t_int16.dtype)\n",
    "t_int32=torch.tensor([0,1],dtype=torch.int32)\n",
    "print(t_int32.dtype)\n",
    "t_int64=torch.tensor([0,1],dtype=torch.int64)\n",
    "print(t_int64.dtype)\n",
    "t_float16=torch.tensor([0,1],dtype=torch.float16)\n",
    "print(t_float16.dtype)\n",
    "t_float32=torch.tensor([0,1],dtype=torch.float32)\n",
    "print(t_float32.dtype)\n",
    "t_float64=torch.tensor([0,1],dtype=torch.float64)\n",
    "print(t_float64.dtype)"
   ]
  },
  {
   "cell_type": "code",
   "execution_count": null,
   "metadata": {},
   "outputs": [],
   "source": []
  }
 ],
 "metadata": {
  "kernelspec": {
   "display_name": "Python 3",
   "language": "python",
   "name": "python3"
  },
  "language_info": {
   "codemirror_mode": {
    "name": "ipython",
    "version": 3
   },
   "file_extension": ".py",
   "mimetype": "text/x-python",
   "name": "python",
   "nbconvert_exporter": "python",
   "pygments_lexer": "ipython3",
   "version": "3.7.6"
  }
 },
 "nbformat": 4,
 "nbformat_minor": 4
}
